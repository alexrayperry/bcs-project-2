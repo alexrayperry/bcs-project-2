{
 "cells": [
  {
   "cell_type": "code",
   "execution_count": 31,
   "metadata": {},
   "outputs": [
    {
     "data": {
      "text/html": [
       "<div>\n",
       "<style scoped>\n",
       "    .dataframe tbody tr th:only-of-type {\n",
       "        vertical-align: middle;\n",
       "    }\n",
       "\n",
       "    .dataframe tbody tr th {\n",
       "        vertical-align: top;\n",
       "    }\n",
       "\n",
       "    .dataframe thead th {\n",
       "        text-align: right;\n",
       "    }\n",
       "</style>\n",
       "<table border=\"1\" class=\"dataframe\">\n",
       "  <thead>\n",
       "    <tr style=\"text-align: right;\">\n",
       "      <th></th>\n",
       "      <th>date</th>\n",
       "      <th>time</th>\n",
       "      <th>location</th>\n",
       "      <th>lat</th>\n",
       "      <th>lng</th>\n",
       "      <th>subject_age</th>\n",
       "      <th>subject_race</th>\n",
       "      <th>subject_sex</th>\n",
       "      <th>arrest_made</th>\n",
       "      <th>warning_issued</th>\n",
       "      <th>outcome</th>\n",
       "    </tr>\n",
       "  </thead>\n",
       "  <tbody>\n",
       "    <tr>\n",
       "      <td>0</td>\n",
       "      <td>1/1/2015</td>\n",
       "      <td>1:00:00</td>\n",
       "      <td>3RD ST. &amp; MCKNINNON AVE.</td>\n",
       "      <td>37.736362</td>\n",
       "      <td>-122.390097</td>\n",
       "      <td>23.0</td>\n",
       "      <td>black</td>\n",
       "      <td>male</td>\n",
       "      <td>False</td>\n",
       "      <td>True</td>\n",
       "      <td>warning</td>\n",
       "    </tr>\n",
       "    <tr>\n",
       "      <td>1</td>\n",
       "      <td>1/1/2015</td>\n",
       "      <td>1:00:00</td>\n",
       "      <td>MISSION/EUGENIA</td>\n",
       "      <td>37.742207</td>\n",
       "      <td>-122.422097</td>\n",
       "      <td>30.0</td>\n",
       "      <td>hispanic</td>\n",
       "      <td>female</td>\n",
       "      <td>False</td>\n",
       "      <td>True</td>\n",
       "      <td>warning</td>\n",
       "    </tr>\n",
       "    <tr>\n",
       "      <td>2</td>\n",
       "      <td>1/1/2015</td>\n",
       "      <td>1:00:00</td>\n",
       "      <td>MISSION ST &amp; VFALENCIA ST</td>\n",
       "      <td>37.745604</td>\n",
       "      <td>-122.419898</td>\n",
       "      <td>35.0</td>\n",
       "      <td>white</td>\n",
       "      <td>male</td>\n",
       "      <td>False</td>\n",
       "      <td>False</td>\n",
       "      <td>citation</td>\n",
       "    </tr>\n",
       "    <tr>\n",
       "      <td>3</td>\n",
       "      <td>1/1/2015</td>\n",
       "      <td>1:00:00</td>\n",
       "      <td>EDDY / GOUGH</td>\n",
       "      <td>37.782485</td>\n",
       "      <td>-122.424125</td>\n",
       "      <td>44.0</td>\n",
       "      <td>white</td>\n",
       "      <td>male</td>\n",
       "      <td>False</td>\n",
       "      <td>False</td>\n",
       "      <td>citation</td>\n",
       "    </tr>\n",
       "    <tr>\n",
       "      <td>4</td>\n",
       "      <td>1/1/2015</td>\n",
       "      <td>1:00:00</td>\n",
       "      <td>24TH/TARAVAL</td>\n",
       "      <td>37.742822</td>\n",
       "      <td>-122.481078</td>\n",
       "      <td>60.0</td>\n",
       "      <td>white</td>\n",
       "      <td>male</td>\n",
       "      <td>False</td>\n",
       "      <td>True</td>\n",
       "      <td>warning</td>\n",
       "    </tr>\n",
       "  </tbody>\n",
       "</table>\n",
       "</div>"
      ],
      "text/plain": [
       "       date     time                   location        lat         lng  \\\n",
       "0  1/1/2015  1:00:00   3RD ST. & MCKNINNON AVE.  37.736362 -122.390097   \n",
       "1  1/1/2015  1:00:00            MISSION/EUGENIA  37.742207 -122.422097   \n",
       "2  1/1/2015  1:00:00  MISSION ST & VFALENCIA ST  37.745604 -122.419898   \n",
       "3  1/1/2015  1:00:00               EDDY / GOUGH  37.782485 -122.424125   \n",
       "4  1/1/2015  1:00:00               24TH/TARAVAL  37.742822 -122.481078   \n",
       "\n",
       "   subject_age subject_race subject_sex  arrest_made  warning_issued   outcome  \n",
       "0         23.0        black        male        False            True   warning  \n",
       "1         30.0     hispanic      female        False            True   warning  \n",
       "2         35.0        white        male        False           False  citation  \n",
       "3         44.0        white        male        False           False  citation  \n",
       "4         60.0        white        male        False            True   warning  "
      ]
     },
     "execution_count": 31,
     "metadata": {},
     "output_type": "execute_result"
    }
   ],
   "source": [
    "# Dependencies and Setup\n",
    "import matplotlib.pyplot as plt\n",
    "import pandas as pd\n",
    "import scipy.stats as st\n",
    "\n",
    "# Study data files\n",
    "sf_police_data = \"cleaned_version.csv\"\n",
    "\n",
    "#Read the sf police data\n",
    "data = pd.read_csv(sf_police_data)\n",
    "\n",
    "# Display preview\n",
    "data.head()"
   ]
  },
  {
   "cell_type": "code",
   "execution_count": 32,
   "metadata": {},
   "outputs": [],
   "source": [
    "race_arrests_data = data.drop(['date', 'time','location','lat','lng','subject_age','subject_sex','warning_issued','outcome'], axis=1)\n"
   ]
  },
  {
   "cell_type": "code",
   "execution_count": 33,
   "metadata": {},
   "outputs": [
    {
     "data": {
      "text/html": [
       "<div>\n",
       "<style scoped>\n",
       "    .dataframe tbody tr th:only-of-type {\n",
       "        vertical-align: middle;\n",
       "    }\n",
       "\n",
       "    .dataframe tbody tr th {\n",
       "        vertical-align: top;\n",
       "    }\n",
       "\n",
       "    .dataframe thead th {\n",
       "        text-align: right;\n",
       "    }\n",
       "</style>\n",
       "<table border=\"1\" class=\"dataframe\">\n",
       "  <thead>\n",
       "    <tr style=\"text-align: right;\">\n",
       "      <th></th>\n",
       "      <th>subject_race</th>\n",
       "      <th>arrest_made</th>\n",
       "    </tr>\n",
       "  </thead>\n",
       "  <tbody>\n",
       "    <tr>\n",
       "      <td>0</td>\n",
       "      <td>black</td>\n",
       "      <td>False</td>\n",
       "    </tr>\n",
       "    <tr>\n",
       "      <td>1</td>\n",
       "      <td>hispanic</td>\n",
       "      <td>False</td>\n",
       "    </tr>\n",
       "    <tr>\n",
       "      <td>2</td>\n",
       "      <td>white</td>\n",
       "      <td>False</td>\n",
       "    </tr>\n",
       "    <tr>\n",
       "      <td>3</td>\n",
       "      <td>white</td>\n",
       "      <td>False</td>\n",
       "    </tr>\n",
       "    <tr>\n",
       "      <td>4</td>\n",
       "      <td>white</td>\n",
       "      <td>False</td>\n",
       "    </tr>\n",
       "  </tbody>\n",
       "</table>\n",
       "</div>"
      ],
      "text/plain": [
       "  subject_race  arrest_made\n",
       "0        black        False\n",
       "1     hispanic        False\n",
       "2        white        False\n",
       "3        white        False\n",
       "4        white        False"
      ]
     },
     "execution_count": 33,
     "metadata": {},
     "output_type": "execute_result"
    }
   ],
   "source": [
    "race_arrests_data.head()"
   ]
  },
  {
   "cell_type": "code",
   "execution_count": 34,
   "metadata": {},
   "outputs": [
    {
     "name": "stdout",
     "output_type": "stream",
     "text": [
      "                        arrest_made\n",
      "subject_race                       \n",
      "asian/pacific islander        15511\n",
      "black                         14978\n",
      "hispanic                      11927\n",
      "other                         13654\n",
      "white                         29837\n"
     ]
    }
   ],
   "source": [
    "count = race_arrests_data.groupby('subject_race').count()\n",
    "print(count)"
   ]
  },
  {
   "cell_type": "code",
   "execution_count": 35,
   "metadata": {},
   "outputs": [
    {
     "name": "stdout",
     "output_type": "stream",
     "text": [
      "<pandas.core.groupby.generic.DataFrameGroupBy object at 0x000001E40497C308>\n"
     ]
    }
   ],
   "source": [
    "byRace = race_arrests_data.groupby('subject_race')\n",
    "print(byRace)"
   ]
  },
  {
   "cell_type": "code",
   "execution_count": 36,
   "metadata": {},
   "outputs": [
    {
     "data": {
      "text/plain": [
       "False    84966\n",
       "True       941\n",
       "Name: arrest_made, dtype: int64"
      ]
     },
     "execution_count": 36,
     "metadata": {},
     "output_type": "execute_result"
    }
   ],
   "source": [
    "# Total arrests\n",
    "race_arrests_data.arrest_made.value_counts()"
   ]
  },
  {
   "cell_type": "code",
   "execution_count": 67,
   "metadata": {},
   "outputs": [
    {
     "data": {
      "image/png": "[encoded data removed]",
      "text/plain": [
       "<Figure size 432x288 with 1 Axes>"
      ]
     },
     "metadata": {
      "needs_background": "light"
     },
     "output_type": "display_data"
    }
   ],
   "source": [
    "# Generate a bar plot showing number of incidents by race\n",
    "counts = race_arrests_data['subject_race'].value_counts().sort_index()\n",
    "counts.plot(kind=\"bar\")\n",
    "plt.title(\"Total Number of Incidents by Race\")\n",
    "plt.xlabel(\"Race\")\n",
    "plt.xticks(rotation=45)\n",
    "plt.ylabel(\"Number of incidents\")\n",
    "plt.savefig('Bar_Incidents_by_Race.png', dpi=300, bbox_inches='tight')\n",
    "plt.show()"
   ]
  },
  {
   "cell_type": "code",
   "execution_count": 68,
   "metadata": {
    "scrolled": true
   },
   "outputs": [
    {
     "data": {
      "image/png": "[encoded data removed]",
      "text/plain": [
       "<Figure size 432x288 with 1 Axes>"
      ]
     },
     "metadata": {
      "needs_background": "light"
     },
     "output_type": "display_data"
    }
   ],
   "source": [
    "#Generate a Bar graph that only shows when arrests where made by race\n",
    "only_arrests = race_arrests_data[race_arrests_data.arrest_made != False]\n",
    "only_arrests.head()\n",
    "\n",
    "counts = only_arrests['subject_race'].value_counts().sort_index()\n",
    "counts.plot(kind=\"bar\")\n",
    "plt.title(\"Total Number of Arrests by Race\")\n",
    "plt.xlabel(\"Race\")\n",
    "plt.xticks(rotation=45)\n",
    "plt.ylabel(\"Number of arrests\")\n",
    "plt.savefig('Bar_Arrests_by_Race.png', dpi=300, bbox_inches='tight')\n",
    "plt.show()"
   ]
  },
  {
   "cell_type": "code",
   "execution_count": 69,
   "metadata": {},
   "outputs": [
    {
     "data": {
      "image/png": "[encoded data removed]",
      "text/plain": [
       "<Figure size 432x288 with 1 Axes>"
      ]
     },
     "metadata": {},
     "output_type": "display_data"
    }
   ],
   "source": [
    "# Arrest made as a percentage of incidents\n",
    "counts = race_arrests_data['arrest_made'].value_counts()\n",
    "counts\n",
    "plt.pie(counts.values,labels=counts.index.values,autopct='%1.1f%%')\n",
    "plt.title(\"Percentage of Arrests\")\n",
    "plt.savefig('Pie_all_races_arrests.png', dpi=300, bbox_inches='tight')\n",
    "plt.show()"
   ]
  },
  {
   "cell_type": "code",
   "execution_count": 70,
   "metadata": {},
   "outputs": [
    {
     "data": {
      "image/png": "[encoded data removed]",
      "text/plain": [
       "<Figure size 432x288 with 1 Axes>"
      ]
     },
     "metadata": {},
     "output_type": "display_data"
    }
   ],
   "source": [
    "# Percentage of Incidents that ended up as an Arrest for WHITES\n",
    "white = race_arrests_data[race_arrests_data.values == \"white\"]\n",
    "white.head()\n",
    "counts = white['arrest_made'].value_counts()\n",
    "counts\n",
    "plt.pie(counts.values,labels=counts.index.values,autopct='%1.1f%%')\n",
    "plt.title(\"WHITE\")\n",
    "plt.savefig('Pie_White_arrests.png', dpi=300, bbox_inches='tight')\n",
    "plt.show()"
   ]
  },
  {
   "cell_type": "code",
   "execution_count": 71,
   "metadata": {},
   "outputs": [
    {
     "data": {
      "image/png": "[encoded data removed]",
      "text/plain": [
       "<Figure size 432x288 with 1 Axes>"
      ]
     },
     "metadata": {},
     "output_type": "display_data"
    }
   ],
   "source": [
    "# Percentage of Incidents that ended up as an Arrest for Blacks\n",
    "black = race_arrests_data[race_arrests_data.values == \"black\"]\n",
    "black.head()\n",
    "counts = black['arrest_made'].value_counts()\n",
    "counts\n",
    "plt.pie(counts.values,labels=counts.index.values,autopct='%1.1f%%')\n",
    "plt.title(\"BLACK\")\n",
    "plt.savefig('Pie_Black_arrests.png', dpi=300, bbox_inches='tight')\n",
    "plt.show()"
   ]
  },
  {
   "cell_type": "code",
   "execution_count": 72,
   "metadata": {},
   "outputs": [
    {
     "data": {
      "image/png": "[encoded data removed]",
      "text/plain": [
       "<Figure size 432x288 with 1 Axes>"
      ]
     },
     "metadata": {},
     "output_type": "display_data"
    }
   ],
   "source": [
    "# Percentage of Incidents that ended up as an Arrest for hispanic\n",
    "his = race_arrests_data[race_arrests_data.values == \"hispanic\"]\n",
    "his.head()\n",
    "counts = his['arrest_made'].value_counts()\n",
    "counts\n",
    "plt.pie(counts.values,labels=counts.index.values,autopct='%1.1f%%')\n",
    "plt.title(\"HISPANIC\")\n",
    "plt.savefig('Pie_Hispanic_arrests.png', dpi=300, bbox_inches='tight')\n",
    "plt.show()"
   ]
  },
  {
   "cell_type": "code",
   "execution_count": 73,
   "metadata": {},
   "outputs": [
    {
     "data": {
      "image/png": "[encoded data removed]",
      "text/plain": [
       "<Figure size 432x288 with 1 Axes>"
      ]
     },
     "metadata": {},
     "output_type": "display_data"
    }
   ],
   "source": [
    "# Percentage of Incidents that ended up as an Arrest for Asian\n",
    "asian = race_arrests_data[race_arrests_data.values == \"hispanic\"]\n",
    "asian.head()\n",
    "counts = asian['arrest_made'].value_counts()\n",
    "counts\n",
    "plt.pie(counts.values,labels=counts.index.values,autopct='%1.1f%%')\n",
    "plt.title(\"Asian/Pacific Islander\")\n",
    "plt.savefig('Pie_Asian_arrests.png', dpi=300, bbox_inches='tight')\n",
    "plt.show()"
   ]
  },
  {
   "cell_type": "code",
   "execution_count": null,
   "metadata": {},
   "outputs": [],
   "source": []
  }
 ],
 "metadata": {
  "kernelspec": {
   "display_name": "Python 3",
   "language": "python",
   "name": "python3"
  },
  "language_info": {
   "codemirror_mode": {
    "name": "ipython",
    "version": 3
   },
   "file_extension": ".py",
   "mimetype": "text/x-python",
   "name": "python",
   "nbconvert_exporter": "python",
   "pygments_lexer": "ipython3",
   "version": "3.7.4"
  }
 },
 "nbformat": 4,
 "nbformat_minor": 2
}
